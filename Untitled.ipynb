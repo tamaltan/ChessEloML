{
 "cells": [
  {
   "cell_type": "code",
   "execution_count": 6,
   "metadata": {
    "collapsed": false
   },
   "outputs": [],
   "source": [
    "import numpy as np\n",
    "\n",
    "fileMat = np.loadtxt('data_e000000_STF-600-64-MOD_40x20.rptpmd',dtype='str', delimiter=';', skiprows=1)\n"
   ]
  },
  {
   "cell_type": "code",
   "execution_count": 7,
   "metadata": {
    "collapsed": false
   },
   "outputs": [
    {
     "data": {
      "text/plain": [
       "array([[\"b'000001'\", \"b' 2354'\", \"b' 2411'\", ..., \"b' 0.0700'\",\n",
       "        \"b' 0.1100'\", \"b' '\"],\n",
       "       [\"b'000001'\", \"b' 2411'\", \"b' 2354'\", ..., \"b' 0.2800'\",\n",
       "        \"b' 0.2200'\", \"b' '\"],\n",
       "       [\"b'000001'\", \"b' 2354'\", \"b' 2411'\", ..., \"b' 0.3800'\",\n",
       "        \"b' 0.4200'\", \"b' '\"],\n",
       "       ..., \n",
       "       [\"b'000009'\", \"b' 2611'\", \"b' 2520'\", ..., \"b' 0.0000'\",\n",
       "        \"b' 0.0000'\", \"b' '\"],\n",
       "       [\"b'000009'\", \"b' 2520'\", \"b' 2611'\", ..., \"b' 0.1000'\",\n",
       "        \"b' 0.0500'\", \"b' '\"],\n",
       "       [\"b'000009'\", \"b' 2611'\", \"b' 2520'\", ..., \"b' 0.0000'\",\n",
       "        \"b' 0.0000'\", \"b' '\"]], \n",
       "      dtype='<U10')"
      ]
     },
     "execution_count": 7,
     "metadata": {},
     "output_type": "execute_result"
    }
   ],
   "source": [
    "fileMat"
   ]
  },
  {
   "cell_type": "code",
   "execution_count": null,
   "metadata": {
    "collapsed": true
   },
   "outputs": [],
   "source": []
  }
 ],
 "metadata": {
  "kernelspec": {
   "display_name": "Python 3",
   "language": "python",
   "name": "python3"
  },
  "language_info": {
   "codemirror_mode": {
    "name": "ipython",
    "version": 3
   },
   "file_extension": ".py",
   "mimetype": "text/x-python",
   "name": "python",
   "nbconvert_exporter": "python",
   "pygments_lexer": "ipython3",
   "version": "3.5.1"
  }
 },
 "nbformat": 4,
 "nbformat_minor": 0
}
